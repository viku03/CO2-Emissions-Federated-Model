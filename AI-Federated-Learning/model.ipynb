{
 "cells": [
  {
   "cell_type": "code",
   "execution_count": 1,
   "metadata": {},
   "outputs": [],
   "source": [
    "import flwr as fl\n",
    "import torch\n",
    "import torch.nn as nn\n",
    "import torch.optim as optim\n",
    "import pandas as pd\n",
    "from sklearn.model_selection import train_test_split\n",
    "from sklearn.preprocessing import StandardScaler\n",
    "from torch.utils.data import DataLoader, TensorDataset"
   ]
  },
  {
   "cell_type": "code",
   "execution_count": 2,
   "metadata": {},
   "outputs": [],
   "source": [
    "# Step 1: Load the local dataset\n",
    "local_file_path = \"Dataset/flight.csv\"\n",
    "data = pd.read_csv(local_file_path)"
   ]
  },
  {
   "cell_type": "code",
   "execution_count": 3,
   "metadata": {},
   "outputs": [],
   "source": [
    "# Convert GHG emissions to numeric, handling any potential formatting issues\n",
    "data['GHG QUANTITY (METRIC TONS CO2e)'] = pd.to_numeric(data['GHG QUANTITY (METRIC TONS CO2e)'], errors='coerce')"
   ]
  },
  {
   "cell_type": "code",
   "execution_count": 4,
   "metadata": {},
   "outputs": [],
   "source": [
    "# Select only the required columns and remove any rows with missing values\n",
    "features = ['LATITUDE', 'LONGITUDE', 'GHG QUANTITY (METRIC TONS CO2e)']\n",
    "data_clean = data[features].copy()\n",
    "data_clean = data_clean.dropna()"
   ]
  },
  {
   "cell_type": "code",
   "execution_count": 5,
   "metadata": {},
   "outputs": [
    {
     "name": "stdout",
     "output_type": "stream",
     "text": [
      "Original data shape: (7511, 13)\n",
      "Clean data shape: (7511, 3)\n"
     ]
    }
   ],
   "source": [
    "print(f\"Original data shape: {data.shape}\")\n",
    "print(f\"Clean data shape: {data_clean.shape}\")"
   ]
  },
  {
   "cell_type": "code",
   "execution_count": 6,
   "metadata": {},
   "outputs": [],
   "source": [
    "# Scale the features\n",
    "scaler = StandardScaler()\n",
    "scaled_features = scaler.fit_transform(data_clean)\n",
    "data_scaled = pd.DataFrame(scaled_features, columns=data_clean.columns)"
   ]
  },
  {
   "cell_type": "code",
   "execution_count": 7,
   "metadata": {},
   "outputs": [],
   "source": [
    "X = data_scaled[['LATITUDE', 'LONGITUDE']].values\n",
    "y = data_scaled['GHG QUANTITY (METRIC TONS CO2e)'].values"
   ]
  },
  {
   "cell_type": "code",
   "execution_count": 8,
   "metadata": {},
   "outputs": [
    {
     "name": "stdout",
     "output_type": "stream",
     "text": [
      "\n",
      "Feature Statistics:\n",
      "           LATITUDE     LONGITUDE\n",
      "count  7.511000e+03  7.511000e+03\n",
      "mean   5.827378e-16  6.489580e-16\n",
      "std    1.000067e+00  1.000067e+00\n",
      "min   -3.975259e+00 -4.942179e+00\n",
      "25%   -7.428952e-01 -3.144797e-01\n",
      "50%    2.469688e-02  6.602291e-02\n",
      "75%    6.526559e-01  5.974452e-01\n",
      "max    5.735741e+00  1.453011e+01\n",
      "\n",
      "Target Statistics:\n",
      "count    7.511000e+03\n",
      "mean    -3.027209e-17\n",
      "std      1.000067e+00\n",
      "min     -3.538620e-01\n",
      "25%     -3.211119e-01\n",
      "50%     -2.860722e-01\n",
      "75%     -1.635975e-01\n",
      "max      1.671562e+01\n",
      "dtype: float64\n"
     ]
    }
   ],
   "source": [
    "# Print some statistics to verify the preprocessing\n",
    "print(\"\\nFeature Statistics:\")\n",
    "print(pd.DataFrame(X, columns=['LATITUDE', 'LONGITUDE']).describe())\n",
    "print(\"\\nTarget Statistics:\")\n",
    "print(pd.Series(y).describe())"
   ]
  },
  {
   "cell_type": "code",
   "execution_count": 9,
   "metadata": {},
   "outputs": [],
   "source": [
    "X_train, X_test, y_train, y_test = train_test_split(X, y, test_size=0.2, random_state=11)"
   ]
  },
  {
   "cell_type": "code",
   "execution_count": 10,
   "metadata": {},
   "outputs": [],
   "source": [
    "# Create DataLoader\n",
    "train_dataset = TensorDataset(torch.tensor(X_train, dtype=torch.float32), \n",
    "                            torch.tensor(y_train, dtype=torch.float32).reshape(-1, 1))\n",
    "train_loader = DataLoader(train_dataset, batch_size=64, shuffle=True)"
   ]
  },
  {
   "cell_type": "code",
   "execution_count": 11,
   "metadata": {},
   "outputs": [],
   "source": [
    "class CO2Model(nn.Module):\n",
    "    def __init__(self):\n",
    "        super(CO2Model, self).__init__()\n",
    "        self.fc1 = nn.Linear(2, 128)\n",
    "        self.fc2 = nn.Linear(128, 64)\n",
    "        self.fc3 = nn.Linear(64, 32)\n",
    "        self.fc4 = nn.Linear(32, 1)\n",
    "        self.dropout = nn.Dropout(0.2)\n",
    "        self.batch_norm1 = nn.BatchNorm1d(128)\n",
    "        self.batch_norm2 = nn.BatchNorm1d(64)\n",
    "        self.batch_norm3 = nn.BatchNorm1d(32)\n",
    "        \n",
    "    def forward(self, x):\n",
    "        x = torch.relu(self.batch_norm1(self.fc1(x)))\n",
    "        x = self.dropout(x)\n",
    "        x = torch.relu(self.batch_norm2(self.fc2(x)))\n",
    "        x = self.dropout(x)\n",
    "        x = torch.relu(self.batch_norm3(self.fc3(x)))\n",
    "        x = self.dropout(x)\n",
    "        x = self.fc4(x)\n",
    "        return x"
   ]
  },
  {
   "cell_type": "code",
   "execution_count": 12,
   "metadata": {},
   "outputs": [],
   "source": [
    "class EmissionClient(fl.client.NumPyClient):\n",
    "    def __init__(self, model, train_loader):\n",
    "        self.model = model\n",
    "        self.train_loader = train_loader\n",
    "        self.criterion = nn.MSELoss()\n",
    "        self.optimizer = optim.Adam(self.model.parameters(), lr=0.001, weight_decay=1e-5)\n",
    "        \n",
    "    def get_parameters(self, config):\n",
    "        return [val.cpu().numpy() for val in self.model.parameters()]\n",
    "    \n",
    "    def set_parameters(self, parameters):\n",
    "        for param, val in zip(self.model.parameters(), parameters):\n",
    "            param.data = torch.tensor(val)\n",
    "    \n",
    "    def fit(self, parameters, config):\n",
    "        self.set_parameters(parameters)\n",
    "        self.model.train()\n",
    "        total_loss = 0\n",
    "        \n",
    "        for epoch in range(3):  # Train for 3 epochs per round\n",
    "            epoch_loss = 0\n",
    "            for batch in self.train_loader:\n",
    "                X_batch, y_batch = batch\n",
    "                self.optimizer.zero_grad()\n",
    "                predictions = self.model(X_batch)\n",
    "                loss = self.criterion(predictions, y_batch)\n",
    "                loss.backward()\n",
    "                torch.nn.utils.clip_grad_norm_(self.model.parameters(), 1.0)  # Gradient clipping\n",
    "                self.optimizer.step()\n",
    "                epoch_loss += loss.item()\n",
    "            total_loss += epoch_loss / len(self.train_loader)\n",
    "            print(f\"Epoch {epoch+1}, Loss: {epoch_loss/len(self.train_loader):.4f}\")\n",
    "            \n",
    "        return self.get_parameters({}), len(self.train_loader.dataset), {\"loss\": total_loss / 3}\n",
    "    \n",
    "    def evaluate(self, parameters, config):\n",
    "        self.set_parameters(parameters)\n",
    "        self.model.eval()\n",
    "        with torch.no_grad():\n",
    "            X_test_tensor = torch.tensor(X_test, dtype=torch.float32)\n",
    "            y_test_tensor = torch.tensor(y_test, dtype=torch.float32).reshape(-1, 1)\n",
    "            predictions = self.model(X_test_tensor)\n",
    "            loss = self.criterion(predictions, y_test_tensor)\n",
    "            \n",
    "            # Calculate R-squared for evaluation\n",
    "            y_mean = y_test_tensor.mean()\n",
    "            total_sum_squares = ((y_test_tensor - y_mean) ** 2).sum()\n",
    "            residual_sum_squares = ((y_test_tensor - predictions) ** 2).sum()\n",
    "            r2 = 1 - (residual_sum_squares / total_sum_squares)\n",
    "            \n",
    "        return float(loss), len(y_test), {\"loss\": float(loss), \"r2\": float(r2)}\n"
   ]
  },
  {
   "cell_type": "code",
   "execution_count": 13,
   "metadata": {},
   "outputs": [],
   "source": [
    "def main():\n",
    "    # Check if CUDA is available\n",
    "    device = torch.device(\"cuda\" if torch.cuda.is_available() else \"mps\")\n",
    "    print(f\"Using device: {device}\")\n",
    "    \n",
    "    model = CO2Model()\n",
    "    model = model.to(device)\n",
    "    client = EmissionClient(model, train_loader)\n",
    "    \n",
    "    fl.client.start_client(\n",
    "        server_address=\"0.0.0.0:8081\",\n",
    "        client=client\n",
    "    )"
   ]
  },
  {
   "cell_type": "code",
   "execution_count": 14,
   "metadata": {},
   "outputs": [
    {
     "name": "stdout",
     "output_type": "stream",
     "text": [
      "Using device: mps\n"
     ]
    },
    {
     "name": "stderr",
     "output_type": "stream",
     "text": [
      "\u001b[92mINFO \u001b[0m:      \n",
      "\u001b[92mINFO \u001b[0m:      Received: get_parameters message 3f0b4626-e5ef-4f02-afe2-104e87dcb7a9\n",
      "\u001b[93mWARNING \u001b[0m:   Deprecation Warning: The `client_fn` function must return an instance of `Client`, but an instance of `NumpyClient` was returned. Please use `NumPyClient.to_client()` method to convert it to `Client`.\n",
      "\u001b[91mERROR \u001b[0m:     Client raised an exception.\n",
      "Traceback (most recent call last):\n",
      "  File \"/Users/Viku/GitHub/programming/.venv/lib/python3.12/site-packages/flwr/client/app.py\", line 536, in start_client_internal\n",
      "    reply_message = client_app(message=message, context=context)\n",
      "                    ^^^^^^^^^^^^^^^^^^^^^^^^^^^^^^^^^^^^^^^^^^^^\n",
      "  File \"/Users/Viku/GitHub/programming/.venv/lib/python3.12/site-packages/flwr/client/client_app.py\", line 143, in __call__\n",
      "    return self._call(message, context)\n",
      "           ^^^^^^^^^^^^^^^^^^^^^^^^^^^^\n",
      "  File \"/Users/Viku/GitHub/programming/.venv/lib/python3.12/site-packages/flwr/client/client_app.py\", line 126, in ffn\n",
      "    out_message = handle_legacy_message_from_msgtype(\n",
      "                  ^^^^^^^^^^^^^^^^^^^^^^^^^^^^^^^^^^^\n",
      "  File \"/Users/Viku/GitHub/programming/.venv/lib/python3.12/site-packages/flwr/client/message_handler/message_handler.py\", line 120, in handle_legacy_message_from_msgtype\n",
      "    get_parameters_res = maybe_call_get_parameters(\n",
      "                         ^^^^^^^^^^^^^^^^^^^^^^^^^^\n",
      "  File \"/Users/Viku/GitHub/programming/.venv/lib/python3.12/site-packages/flwr/client/client.py\", line 235, in maybe_call_get_parameters\n",
      "    return client.get_parameters(get_parameters_ins)\n",
      "           ^^^^^^^^^^^^^^^^^^^^^^^^^^^^^^^^^^^^^^^^^\n",
      "  File \"/Users/Viku/GitHub/programming/.venv/lib/python3.12/site-packages/flwr/client/numpy_client.py\", line 246, in _get_parameters\n",
      "    parameters = self.numpy_client.get_parameters(config=ins.config)  # type: ignore\n",
      "                 ^^^^^^^^^^^^^^^^^^^^^^^^^^^^^^^^^^^^^^^^^^^^^^^^^^^\n",
      "  File \"/var/folders/_2/xx5z8xdj6j98wh4vt2b59jz80000gp/T/ipykernel_10510/3800310146.py\", line 9, in get_parameters\n",
      "    return [val.cpu().numpy() for val in self.model.parameters()]\n",
      "            ^^^^^^^^^^^^^^^^^\n",
      "RuntimeError: Can't call numpy() on Tensor that requires grad. Use tensor.detach().numpy() instead.\n"
     ]
    },
    {
     "ename": "RuntimeError",
     "evalue": "Can't call numpy() on Tensor that requires grad. Use tensor.detach().numpy() instead.",
     "output_type": "error",
     "traceback": [
      "\u001b[0;31m---------------------------------------------------------------------------\u001b[0m",
      "\u001b[0;31mRuntimeError\u001b[0m                              Traceback (most recent call last)",
      "Cell \u001b[0;32mIn[14], line 2\u001b[0m\n\u001b[1;32m      1\u001b[0m \u001b[38;5;28;01mif\u001b[39;00m \u001b[38;5;18m__name__\u001b[39m \u001b[38;5;241m==\u001b[39m \u001b[38;5;124m\"\u001b[39m\u001b[38;5;124m__main__\u001b[39m\u001b[38;5;124m\"\u001b[39m:\n\u001b[0;32m----> 2\u001b[0m     \u001b[43mmain\u001b[49m\u001b[43m(\u001b[49m\u001b[43m)\u001b[49m\n",
      "Cell \u001b[0;32mIn[13], line 10\u001b[0m, in \u001b[0;36mmain\u001b[0;34m()\u001b[0m\n\u001b[1;32m      7\u001b[0m model \u001b[38;5;241m=\u001b[39m model\u001b[38;5;241m.\u001b[39mto(device)\n\u001b[1;32m      8\u001b[0m client \u001b[38;5;241m=\u001b[39m EmissionClient(model, train_loader)\n\u001b[0;32m---> 10\u001b[0m \u001b[43mfl\u001b[49m\u001b[38;5;241;43m.\u001b[39;49m\u001b[43mclient\u001b[49m\u001b[38;5;241;43m.\u001b[39;49m\u001b[43mstart_client\u001b[49m\u001b[43m(\u001b[49m\n\u001b[1;32m     11\u001b[0m \u001b[43m    \u001b[49m\u001b[43mserver_address\u001b[49m\u001b[38;5;241;43m=\u001b[39;49m\u001b[38;5;124;43m\"\u001b[39;49m\u001b[38;5;124;43m0.0.0.0:8081\u001b[39;49m\u001b[38;5;124;43m\"\u001b[39;49m\u001b[43m,\u001b[49m\n\u001b[1;32m     12\u001b[0m \u001b[43m    \u001b[49m\u001b[43mclient\u001b[49m\u001b[38;5;241;43m=\u001b[39;49m\u001b[43mclient\u001b[49m\n\u001b[1;32m     13\u001b[0m \u001b[43m\u001b[49m\u001b[43m)\u001b[49m\n",
      "File \u001b[0;32m~/GitHub/programming/.venv/lib/python3.12/site-packages/flwr/client/app.py:180\u001b[0m, in \u001b[0;36mstart_client\u001b[0;34m(server_address, client_fn, client, grpc_max_message_length, root_certificates, insecure, transport, authentication_keys, max_retries, max_wait_time)\u001b[0m\n\u001b[1;32m    103\u001b[0m \u001b[38;5;250m\u001b[39m\u001b[38;5;124;03m\"\"\"Start a Flower client node which connects to a Flower server.\u001b[39;00m\n\u001b[1;32m    104\u001b[0m \n\u001b[1;32m    105\u001b[0m \u001b[38;5;124;03mParameters\u001b[39;00m\n\u001b[0;32m   (...)\u001b[0m\n\u001b[1;32m    177\u001b[0m \u001b[38;5;124;03m>>> )\u001b[39;00m\n\u001b[1;32m    178\u001b[0m \u001b[38;5;124;03m\"\"\"\u001b[39;00m\n\u001b[1;32m    179\u001b[0m event(EventType\u001b[38;5;241m.\u001b[39mSTART_CLIENT_ENTER)\n\u001b[0;32m--> 180\u001b[0m \u001b[43mstart_client_internal\u001b[49m\u001b[43m(\u001b[49m\n\u001b[1;32m    181\u001b[0m \u001b[43m    \u001b[49m\u001b[43mserver_address\u001b[49m\u001b[38;5;241;43m=\u001b[39;49m\u001b[43mserver_address\u001b[49m\u001b[43m,\u001b[49m\n\u001b[1;32m    182\u001b[0m \u001b[43m    \u001b[49m\u001b[43mnode_config\u001b[49m\u001b[38;5;241;43m=\u001b[39;49m\u001b[43m{\u001b[49m\u001b[43m}\u001b[49m\u001b[43m,\u001b[49m\n\u001b[1;32m    183\u001b[0m \u001b[43m    \u001b[49m\u001b[43mload_client_app_fn\u001b[49m\u001b[38;5;241;43m=\u001b[39;49m\u001b[38;5;28;43;01mNone\u001b[39;49;00m\u001b[43m,\u001b[49m\n\u001b[1;32m    184\u001b[0m \u001b[43m    \u001b[49m\u001b[43mclient_fn\u001b[49m\u001b[38;5;241;43m=\u001b[39;49m\u001b[43mclient_fn\u001b[49m\u001b[43m,\u001b[49m\n\u001b[1;32m    185\u001b[0m \u001b[43m    \u001b[49m\u001b[43mclient\u001b[49m\u001b[38;5;241;43m=\u001b[39;49m\u001b[43mclient\u001b[49m\u001b[43m,\u001b[49m\n\u001b[1;32m    186\u001b[0m \u001b[43m    \u001b[49m\u001b[43mgrpc_max_message_length\u001b[49m\u001b[38;5;241;43m=\u001b[39;49m\u001b[43mgrpc_max_message_length\u001b[49m\u001b[43m,\u001b[49m\n\u001b[1;32m    187\u001b[0m \u001b[43m    \u001b[49m\u001b[43mroot_certificates\u001b[49m\u001b[38;5;241;43m=\u001b[39;49m\u001b[43mroot_certificates\u001b[49m\u001b[43m,\u001b[49m\n\u001b[1;32m    188\u001b[0m \u001b[43m    \u001b[49m\u001b[43minsecure\u001b[49m\u001b[38;5;241;43m=\u001b[39;49m\u001b[43minsecure\u001b[49m\u001b[43m,\u001b[49m\n\u001b[1;32m    189\u001b[0m \u001b[43m    \u001b[49m\u001b[43mtransport\u001b[49m\u001b[38;5;241;43m=\u001b[39;49m\u001b[43mtransport\u001b[49m\u001b[43m,\u001b[49m\n\u001b[1;32m    190\u001b[0m \u001b[43m    \u001b[49m\u001b[43mauthentication_keys\u001b[49m\u001b[38;5;241;43m=\u001b[39;49m\u001b[43mauthentication_keys\u001b[49m\u001b[43m,\u001b[49m\n\u001b[1;32m    191\u001b[0m \u001b[43m    \u001b[49m\u001b[43mmax_retries\u001b[49m\u001b[38;5;241;43m=\u001b[39;49m\u001b[43mmax_retries\u001b[49m\u001b[43m,\u001b[49m\n\u001b[1;32m    192\u001b[0m \u001b[43m    \u001b[49m\u001b[43mmax_wait_time\u001b[49m\u001b[38;5;241;43m=\u001b[39;49m\u001b[43mmax_wait_time\u001b[49m\u001b[43m,\u001b[49m\n\u001b[1;32m    193\u001b[0m \u001b[43m\u001b[49m\u001b[43m)\u001b[49m\n\u001b[1;32m    194\u001b[0m event(EventType\u001b[38;5;241m.\u001b[39mSTART_CLIENT_LEAVE)\n",
      "File \u001b[0;32m~/GitHub/programming/.venv/lib/python3.12/site-packages/flwr/client/app.py:543\u001b[0m, in \u001b[0;36mstart_client_internal\u001b[0;34m(server_address, node_config, load_client_app_fn, client_fn, client, grpc_max_message_length, root_certificates, insecure, transport, authentication_keys, max_retries, max_wait_time, flwr_path, isolation, supernode_address)\u001b[0m\n\u001b[1;32m    541\u001b[0m     log(ERROR, \u001b[38;5;124m\"\u001b[39m\u001b[38;5;124mClient raised an exception.\u001b[39m\u001b[38;5;124m\"\u001b[39m, exc_info\u001b[38;5;241m=\u001b[39mex)\n\u001b[1;32m    542\u001b[0m     \u001b[38;5;66;03m# Raise exception, crash process\u001b[39;00m\n\u001b[0;32m--> 543\u001b[0m     \u001b[38;5;28;01mraise\u001b[39;00m ex\n\u001b[1;32m    545\u001b[0m \u001b[38;5;66;03m# Don't update/change NodeState\u001b[39;00m\n\u001b[1;32m    547\u001b[0m e_code \u001b[38;5;241m=\u001b[39m ErrorCode\u001b[38;5;241m.\u001b[39mCLIENT_APP_RAISED_EXCEPTION\n",
      "File \u001b[0;32m~/GitHub/programming/.venv/lib/python3.12/site-packages/flwr/client/app.py:536\u001b[0m, in \u001b[0;36mstart_client_internal\u001b[0;34m(server_address, node_config, load_client_app_fn, client_fn, client, grpc_max_message_length, root_certificates, insecure, transport, authentication_keys, max_retries, max_wait_time, flwr_path, isolation, supernode_address)\u001b[0m\n\u001b[1;32m    531\u001b[0m         client_app: ClientApp \u001b[38;5;241m=\u001b[39m load_client_app_fn(\n\u001b[1;32m    532\u001b[0m             fab_id, fab_version, run\u001b[38;5;241m.\u001b[39mfab_hash\n\u001b[1;32m    533\u001b[0m         )\n\u001b[1;32m    535\u001b[0m         \u001b[38;5;66;03m# Execute ClientApp\u001b[39;00m\n\u001b[0;32m--> 536\u001b[0m         reply_message \u001b[38;5;241m=\u001b[39m \u001b[43mclient_app\u001b[49m\u001b[43m(\u001b[49m\u001b[43mmessage\u001b[49m\u001b[38;5;241;43m=\u001b[39;49m\u001b[43mmessage\u001b[49m\u001b[43m,\u001b[49m\u001b[43m \u001b[49m\u001b[43mcontext\u001b[49m\u001b[38;5;241;43m=\u001b[39;49m\u001b[43mcontext\u001b[49m\u001b[43m)\u001b[49m\n\u001b[1;32m    537\u001b[0m \u001b[38;5;28;01mexcept\u001b[39;00m \u001b[38;5;167;01mException\u001b[39;00m \u001b[38;5;28;01mas\u001b[39;00m ex:  \u001b[38;5;66;03m# pylint: disable=broad-exception-caught\u001b[39;00m\n\u001b[1;32m    538\u001b[0m \n\u001b[1;32m    539\u001b[0m     \u001b[38;5;66;03m# Legacy grpc-bidi\u001b[39;00m\n\u001b[1;32m    540\u001b[0m     \u001b[38;5;28;01mif\u001b[39;00m transport \u001b[38;5;129;01min\u001b[39;00m [\u001b[38;5;124m\"\u001b[39m\u001b[38;5;124mgrpc-bidi\u001b[39m\u001b[38;5;124m\"\u001b[39m, \u001b[38;5;28;01mNone\u001b[39;00m]:\n",
      "File \u001b[0;32m~/GitHub/programming/.venv/lib/python3.12/site-packages/flwr/client/client_app.py:143\u001b[0m, in \u001b[0;36mClientApp.__call__\u001b[0;34m(self, message, context)\u001b[0m\n\u001b[1;32m    141\u001b[0m \u001b[38;5;66;03m# Execute message using `client_fn`\u001b[39;00m\n\u001b[1;32m    142\u001b[0m \u001b[38;5;28;01mif\u001b[39;00m \u001b[38;5;28mself\u001b[39m\u001b[38;5;241m.\u001b[39m_call:\n\u001b[0;32m--> 143\u001b[0m     \u001b[38;5;28;01mreturn\u001b[39;00m \u001b[38;5;28;43mself\u001b[39;49m\u001b[38;5;241;43m.\u001b[39;49m\u001b[43m_call\u001b[49m\u001b[43m(\u001b[49m\u001b[43mmessage\u001b[49m\u001b[43m,\u001b[49m\u001b[43m \u001b[49m\u001b[43mcontext\u001b[49m\u001b[43m)\u001b[49m\n\u001b[1;32m    145\u001b[0m \u001b[38;5;66;03m# Execute message using a new\u001b[39;00m\n\u001b[1;32m    146\u001b[0m \u001b[38;5;28;01mif\u001b[39;00m message\u001b[38;5;241m.\u001b[39mmetadata\u001b[38;5;241m.\u001b[39mmessage_type \u001b[38;5;241m==\u001b[39m MessageType\u001b[38;5;241m.\u001b[39mTRAIN:\n",
      "File \u001b[0;32m~/GitHub/programming/.venv/lib/python3.12/site-packages/flwr/client/client_app.py:126\u001b[0m, in \u001b[0;36mClientApp.__init__.<locals>.ffn\u001b[0;34m(message, context)\u001b[0m\n\u001b[1;32m    122\u001b[0m \u001b[38;5;28;01mdef\u001b[39;00m \u001b[38;5;21mffn\u001b[39m(\n\u001b[1;32m    123\u001b[0m     message: Message,\n\u001b[1;32m    124\u001b[0m     context: Context,\n\u001b[1;32m    125\u001b[0m ) \u001b[38;5;241m-\u001b[39m\u001b[38;5;241m>\u001b[39m Message:  \u001b[38;5;66;03m# pylint: disable=invalid-name\u001b[39;00m\n\u001b[0;32m--> 126\u001b[0m     out_message \u001b[38;5;241m=\u001b[39m \u001b[43mhandle_legacy_message_from_msgtype\u001b[49m\u001b[43m(\u001b[49m\n\u001b[1;32m    127\u001b[0m \u001b[43m        \u001b[49m\u001b[43mclient_fn\u001b[49m\u001b[38;5;241;43m=\u001b[39;49m\u001b[43mclient_fn\u001b[49m\u001b[43m,\u001b[49m\u001b[43m \u001b[49m\u001b[43mmessage\u001b[49m\u001b[38;5;241;43m=\u001b[39;49m\u001b[43mmessage\u001b[49m\u001b[43m,\u001b[49m\u001b[43m \u001b[49m\u001b[43mcontext\u001b[49m\u001b[38;5;241;43m=\u001b[39;49m\u001b[43mcontext\u001b[49m\n\u001b[1;32m    128\u001b[0m \u001b[43m    \u001b[49m\u001b[43m)\u001b[49m\n\u001b[1;32m    129\u001b[0m     \u001b[38;5;28;01mreturn\u001b[39;00m out_message\n",
      "File \u001b[0;32m~/GitHub/programming/.venv/lib/python3.12/site-packages/flwr/client/message_handler/message_handler.py:120\u001b[0m, in \u001b[0;36mhandle_legacy_message_from_msgtype\u001b[0;34m(client_fn, message, context)\u001b[0m\n\u001b[1;32m    118\u001b[0m \u001b[38;5;66;03m# Handle GetParametersIns\u001b[39;00m\n\u001b[1;32m    119\u001b[0m \u001b[38;5;28;01melif\u001b[39;00m message_type \u001b[38;5;241m==\u001b[39m MessageTypeLegacy\u001b[38;5;241m.\u001b[39mGET_PARAMETERS:\n\u001b[0;32m--> 120\u001b[0m     get_parameters_res \u001b[38;5;241m=\u001b[39m \u001b[43mmaybe_call_get_parameters\u001b[49m\u001b[43m(\u001b[49m\n\u001b[1;32m    121\u001b[0m \u001b[43m        \u001b[49m\u001b[43mclient\u001b[49m\u001b[38;5;241;43m=\u001b[39;49m\u001b[43mclient\u001b[49m\u001b[43m,\u001b[49m\n\u001b[1;32m    122\u001b[0m \u001b[43m        \u001b[49m\u001b[43mget_parameters_ins\u001b[49m\u001b[38;5;241;43m=\u001b[39;49m\u001b[43mrecordset_to_getparametersins\u001b[49m\u001b[43m(\u001b[49m\u001b[43mmessage\u001b[49m\u001b[38;5;241;43m.\u001b[39;49m\u001b[43mcontent\u001b[49m\u001b[43m)\u001b[49m\u001b[43m,\u001b[49m\n\u001b[1;32m    123\u001b[0m \u001b[43m    \u001b[49m\u001b[43m)\u001b[49m\n\u001b[1;32m    124\u001b[0m     out_recordset \u001b[38;5;241m=\u001b[39m getparametersres_to_recordset(\n\u001b[1;32m    125\u001b[0m         get_parameters_res, keep_input\u001b[38;5;241m=\u001b[39m\u001b[38;5;28;01mFalse\u001b[39;00m\n\u001b[1;32m    126\u001b[0m     )\n\u001b[1;32m    127\u001b[0m \u001b[38;5;66;03m# Handle FitIns\u001b[39;00m\n",
      "File \u001b[0;32m~/GitHub/programming/.venv/lib/python3.12/site-packages/flwr/client/client.py:235\u001b[0m, in \u001b[0;36mmaybe_call_get_parameters\u001b[0;34m(client, get_parameters_ins)\u001b[0m\n\u001b[1;32m    229\u001b[0m     \u001b[38;5;28;01mreturn\u001b[39;00m GetParametersRes(\n\u001b[1;32m    230\u001b[0m         status\u001b[38;5;241m=\u001b[39mstatus,\n\u001b[1;32m    231\u001b[0m         parameters\u001b[38;5;241m=\u001b[39mParameters(tensor_type\u001b[38;5;241m=\u001b[39m\u001b[38;5;124m\"\u001b[39m\u001b[38;5;124m\"\u001b[39m, tensors\u001b[38;5;241m=\u001b[39m[]),\n\u001b[1;32m    232\u001b[0m     )\n\u001b[1;32m    234\u001b[0m \u001b[38;5;66;03m# If the client implements `get_parameters`, call it\u001b[39;00m\n\u001b[0;32m--> 235\u001b[0m \u001b[38;5;28;01mreturn\u001b[39;00m \u001b[43mclient\u001b[49m\u001b[38;5;241;43m.\u001b[39;49m\u001b[43mget_parameters\u001b[49m\u001b[43m(\u001b[49m\u001b[43mget_parameters_ins\u001b[49m\u001b[43m)\u001b[49m\n",
      "File \u001b[0;32m~/GitHub/programming/.venv/lib/python3.12/site-packages/flwr/client/numpy_client.py:246\u001b[0m, in \u001b[0;36m_get_parameters\u001b[0;34m(self, ins)\u001b[0m\n\u001b[1;32m    244\u001b[0m \u001b[38;5;28;01mdef\u001b[39;00m \u001b[38;5;21m_get_parameters\u001b[39m(\u001b[38;5;28mself\u001b[39m: Client, ins: GetParametersIns) \u001b[38;5;241m-\u001b[39m\u001b[38;5;241m>\u001b[39m GetParametersRes:\n\u001b[1;32m    245\u001b[0m \u001b[38;5;250m    \u001b[39m\u001b[38;5;124;03m\"\"\"Return the current local model parameters.\"\"\"\u001b[39;00m\n\u001b[0;32m--> 246\u001b[0m     parameters \u001b[38;5;241m=\u001b[39m \u001b[38;5;28;43mself\u001b[39;49m\u001b[38;5;241;43m.\u001b[39;49m\u001b[43mnumpy_client\u001b[49m\u001b[38;5;241;43m.\u001b[39;49m\u001b[43mget_parameters\u001b[49m\u001b[43m(\u001b[49m\u001b[43mconfig\u001b[49m\u001b[38;5;241;43m=\u001b[39;49m\u001b[43mins\u001b[49m\u001b[38;5;241;43m.\u001b[39;49m\u001b[43mconfig\u001b[49m\u001b[43m)\u001b[49m  \u001b[38;5;66;03m# type: ignore\u001b[39;00m\n\u001b[1;32m    247\u001b[0m     parameters_proto \u001b[38;5;241m=\u001b[39m ndarrays_to_parameters(parameters)\n\u001b[1;32m    248\u001b[0m     \u001b[38;5;28;01mreturn\u001b[39;00m GetParametersRes(\n\u001b[1;32m    249\u001b[0m         status\u001b[38;5;241m=\u001b[39mStatus(code\u001b[38;5;241m=\u001b[39mCode\u001b[38;5;241m.\u001b[39mOK, message\u001b[38;5;241m=\u001b[39m\u001b[38;5;124m\"\u001b[39m\u001b[38;5;124mSuccess\u001b[39m\u001b[38;5;124m\"\u001b[39m), parameters\u001b[38;5;241m=\u001b[39mparameters_proto\n\u001b[1;32m    250\u001b[0m     )\n",
      "Cell \u001b[0;32mIn[12], line 9\u001b[0m, in \u001b[0;36mEmissionClient.get_parameters\u001b[0;34m(self, config)\u001b[0m\n\u001b[1;32m      8\u001b[0m \u001b[38;5;28;01mdef\u001b[39;00m \u001b[38;5;21mget_parameters\u001b[39m(\u001b[38;5;28mself\u001b[39m, config):\n\u001b[0;32m----> 9\u001b[0m     \u001b[38;5;28;01mreturn\u001b[39;00m [\u001b[43mval\u001b[49m\u001b[38;5;241;43m.\u001b[39;49m\u001b[43mcpu\u001b[49m\u001b[43m(\u001b[49m\u001b[43m)\u001b[49m\u001b[38;5;241;43m.\u001b[39;49m\u001b[43mnumpy\u001b[49m\u001b[43m(\u001b[49m\u001b[43m)\u001b[49m \u001b[38;5;28;01mfor\u001b[39;00m val \u001b[38;5;129;01min\u001b[39;00m \u001b[38;5;28mself\u001b[39m\u001b[38;5;241m.\u001b[39mmodel\u001b[38;5;241m.\u001b[39mparameters()]\n",
      "\u001b[0;31mRuntimeError\u001b[0m: Can't call numpy() on Tensor that requires grad. Use tensor.detach().numpy() instead."
     ]
    }
   ],
   "source": [
    "if __name__ == \"__main__\":\n",
    "    main()"
   ]
  },
  {
   "cell_type": "code",
   "execution_count": null,
   "metadata": {},
   "outputs": [],
   "source": []
  }
 ],
 "metadata": {
  "kernelspec": {
   "display_name": ".venv",
   "language": "python",
   "name": "python3"
  },
  "language_info": {
   "codemirror_mode": {
    "name": "ipython",
    "version": 3
   },
   "file_extension": ".py",
   "mimetype": "text/x-python",
   "name": "python",
   "nbconvert_exporter": "python",
   "pygments_lexer": "ipython3",
   "version": "3.12.6"
  }
 },
 "nbformat": 4,
 "nbformat_minor": 2
}
